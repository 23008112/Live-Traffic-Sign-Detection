{
  "cells": [
    {
      "cell_type": "markdown",
      "source": [
        "# Traffic Sign Classification\n",
        "Using CNN & Resnet pretrained model"
      ],
      "metadata": {
        "id": "zfnV2H1Igtxu"
      },
      "id": "zfnV2H1Igtxu"
    },
    {
      "cell_type": "code",
      "source": [
        "from google.colab import drive\n",
        "drive.mount('/content/drive/')"
      ],
      "metadata": {
        "colab": {
          "base_uri": "https://localhost:8080/"
        },
        "id": "f43wbD5mf0n2",
        "outputId": "32b55ebc-0794-496e-9c52-71dd829e600f"
      },
      "id": "f43wbD5mf0n2",
      "execution_count": null,
      "outputs": [
        {
          "output_type": "stream",
          "name": "stdout",
          "text": [
            "Mounted at /content/drive/\n"
          ]
        }
      ]
    },
    {
      "cell_type": "code",
      "source": [
        "import yaml\n",
        "with open('/content/data.yaml') as f:\n",
        "    dict = yaml.safe_load(f)\n",
        "    print(dict)"
      ],
      "metadata": {
        "colab": {
          "base_uri": "https://localhost:8080/"
        },
        "id": "vpwOL5tgfcnY",
        "outputId": "ce4ef637-98d7-45c9-c0df-08d24a08bc99"
      },
      "id": "vpwOL5tgfcnY",
      "execution_count": null,
      "outputs": [
        {
          "output_type": "stream",
          "name": "stdout",
          "text": [
            "[{'train': '../train/images', 'val': '../valid/images', 'test': '../test/images', 'nc': 48, 'names': ['All Motor Vehicle Prohibited', 'Barrier Ahead', 'Bullock And Handcart Prohibited', 'Compulsary Ahead', 'Compulsary Keep Left', 'Compulsary Keep Right', 'Compulsary Sound Horn', 'Compulsary Turn Left', 'Compulsary Turn Right', 'Cross Road', 'Cycle Prohibited', 'Give Way', 'Horse Car Prohibited', 'Left Hand Curve', 'Left Reverse Bend', 'Left Turn Prohibited', 'Major Road Ahead', 'Men At Work', 'Narrow Bridge', 'Narrow Road Ahead', 'Narrow Road Left Ahead', 'No Entry', 'No Heavy Vehicles', 'No Parking', 'No Stopping', 'Pedestrian Crossing', 'Pedestrian Prohibited', 'Right Hair Pin Bend', 'Right Hand Curve', 'Right Reverse Bend', 'Right Turn', 'Right Turn Prohibited', 'Road Wideness Ahead', 'Roundabout', 'School Ahead', 'Side Road', 'Slippery Road', 'Sound Horn', 'Speed Limit', 'Steep Ascent', 'Stop', 'Straight Prohibited', 'T Junction', 'Traffic  Signal', 'Two Way Signs', 'U Turn Prohibited', 'Width Limit', 'Y Intersection'], 'roboflow': {'workspace': 'college-opfvn', 'project': 'india-traffic-sign', 'version': 9, 'license': 'CC BY 4.0', 'url': 'https://universe.roboflow.com/college-opfvn/india-traffic-sign/dataset/9'}}]\n"
          ]
        }
      ]
    },
    {
      "cell_type": "code",
      "source": [
        "import os\n",
        "from torch.utils.data import Dataset, DataLoader\n",
        "from PIL import Image\n",
        "import torch\n",
        "from torchvision import transforms\n",
        "import torch.nn as nn\n",
        "import torch.optim as optim\n",
        "from torchvision import models"
      ],
      "metadata": {
        "id": "yJJck83wysfa"
      },
      "id": "yJJck83wysfa",
      "execution_count": null,
      "outputs": []
    },
    {
      "cell_type": "code",
      "source": [
        "class TrafficSignDataset(Dataset):\n",
        "    def __init__(self, dataset, type, transform=None):\n",
        "        self.images_dir = os.path.join(dataset, type, \"images\")\n",
        "        self.labels_dir = os.path.join(dataset, type, \"labels\")\n",
        "        self.transform = transform\n",
        "\n",
        "        self.image_filenames = sorted([f for f in os.listdir(self.images_dir) if f.endswith(('.jpg', '.png'))])\n",
        "        self.label_filenames = sorted([f for f in os.listdir(self.labels_dir) if f.endswith('.txt')])\n",
        "\n",
        "        # Filter out images with empty or invalid label files\n",
        "        valid_pairs = []\n",
        "        for img_file, label_file in zip(self.image_filenames, self.label_filenames):\n",
        "            label_path = os.path.join(self.labels_dir, label_file)\n",
        "            try:\n",
        "                with open(label_path, 'r') as f:\n",
        "                    line = f.readline().strip()\n",
        "                    if line:  # Ensure the label file is not empty\n",
        "                        int(line.split()[0])  # Ensure the first value is valid\n",
        "                        valid_pairs.append((img_file, label_file))\n",
        "            except Exception as e:\n",
        "                print(f\"Skipping invalid label file '{label_file}': {e}\")\n",
        "\n",
        "        self.image_filenames, self.label_filenames = zip(*valid_pairs) if valid_pairs else ([], [])\n",
        "\n",
        "    def __len__(self):\n",
        "        return len(self.image_filenames)\n",
        "\n",
        "    def __getitem__(self, idx):\n",
        "        img_path = os.path.join(self.images_dir, self.image_filenames[idx])\n",
        "        label_path = os.path.join(self.labels_dir, self.label_filenames[idx])\n",
        "        image = Image.open(img_path).convert(\"RGB\")\n",
        "\n",
        "        with open(label_path, 'r') as f:\n",
        "            class_id = int(f.readline().split()[0])  # Only the first line and first value\n",
        "\n",
        "        if self.transform:\n",
        "            image = self.transform(image)\n",
        "\n",
        "        return image, torch.tensor(class_id, dtype=torch.long)"
      ],
      "metadata": {
        "id": "Qb79Y8jyyMQc"
      },
      "id": "Qb79Y8jyyMQc",
      "execution_count": null,
      "outputs": []
    },
    {
      "cell_type": "code",
      "source": [
        "# Define image transformations (resize, normalize, etc.)\n",
        "data_transforms = transforms.Compose([\n",
        "    transforms.Resize((224, 224)),  # Resize images to 224x224\n",
        "    transforms.ToTensor(),          # Convert images to PyTorch tensors\n",
        "    transforms.Normalize([0.485, 0.456, 0.406], [0.229, 0.224, 0.225])\n",
        "])\n",
        "\n",
        "\n",
        "# Define paths and loaders\n",
        "base_directory = \"/content/drive/MyDrive/dataset_roboflow\"\n",
        "train_dataset = TrafficSignDataset(dataset=base_directory, type=\"train\", transform=data_transforms)\n",
        "test_dataset = TrafficSignDataset(dataset=base_directory, type=\"test\", transform=data_transforms)\n",
        "train_loader = DataLoader(train_dataset, batch_size=16, shuffle=True, num_workers=2)\n",
        "test_loader = DataLoader(test_dataset, batch_size=16, shuffle=False, num_workers=2)"
      ],
      "metadata": {
        "id": "YSBdnfLTyUqB"
      },
      "id": "YSBdnfLTyUqB",
      "execution_count": null,
      "outputs": []
    },
    {
      "cell_type": "code",
      "source": [
        "class TrafficSignClassifierCNN(nn.Module):\n",
        "    def __init__(self, num_classes, input_size=(3, 224, 224)):\n",
        "        super(TrafficSignClassifierCNN, self).__init__()\n",
        "        self.conv_layers = nn.Sequential(\n",
        "            nn.Conv2d(3, 32, kernel_size=3, stride=1, padding=1),  # Output: (32, 224, 224)\n",
        "            nn.ReLU(),\n",
        "            nn.MaxPool2d(kernel_size=2, stride=2),                 # Output: (32, 112, 112)\n",
        "\n",
        "            nn.Conv2d(32, 64, kernel_size=3, stride=2, padding=1), # Output: (64, 56, 56)\n",
        "            nn.ReLU(),\n",
        "            nn.MaxPool2d(kernel_size=2, stride=2),                 # Output: (64, 28, 28)\n",
        "\n",
        "            nn.Conv2d(64, 128, kernel_size=3, stride=1, padding=1),# Output: (128, 28, 28)\n",
        "            nn.ReLU(),\n",
        "            nn.MaxPool2d(kernel_size=2, stride=2)                  # Output: (128, 14, 14)\n",
        "        )\n",
        "\n",
        "        # Dynamically compute the flattened size\n",
        "        self.feature_map_size = self._get_flattened_size(input_size)\n",
        "\n",
        "        # Fully connected layers\n",
        "        self.fc_layers = nn.Sequential(\n",
        "            nn.Flatten(),\n",
        "            nn.Linear(self.feature_map_size, 64),\n",
        "            nn.ReLU(),\n",
        "            nn.Dropout(0.5),\n",
        "            nn.Linear(64, num_classes)\n",
        "        )\n",
        "\n",
        "    def _get_flattened_size(self, input_size):\n",
        "        \"\"\"Compute the size of the flattened feature map after the convolutional layers.\"\"\"\n",
        "        dummy_input = torch.zeros(1, *input_size)  # Batch size of 1\n",
        "        dummy_output = self.conv_layers(dummy_input)\n",
        "        return int(torch.prod(torch.tensor(dummy_output.shape[1:])))  # Compute flattened size\n",
        "\n",
        "    def forward(self, x):\n",
        "        x = self.conv_layers(x)\n",
        "        x = self.fc_layers(x)\n",
        "        return x"
      ],
      "metadata": {
        "id": "XLJctKKjPcrH"
      },
      "id": "XLJctKKjPcrH",
      "execution_count": null,
      "outputs": []
    },
    {
      "cell_type": "code",
      "source": [
        "class TrafficSignClassifier(nn.Module):\n",
        "    def __init__(self, num_classes):\n",
        "        super(TrafficSignClassifier, self).__init__()\n",
        "        self.model = models.resnet18(pretrained=True)\n",
        "        self.model.fc = nn.Linear(self.model.fc.in_features, num_classes)\n",
        "\n",
        "    def forward(self, x):\n",
        "        return self.model(x)\n"
      ],
      "metadata": {
        "id": "cBFCkUJHyYFT"
      },
      "id": "cBFCkUJHyYFT",
      "execution_count": null,
      "outputs": []
    },
    {
      "cell_type": "code",
      "source": [
        "if torch.cuda.is_available():\n",
        "    device = torch.device(\"cuda\")\n",
        "    print(\"GPU is available!\")\n",
        "else:\n",
        "    device = torch.device(\"cpu\")\n",
        "    print(\"GPU is not available.\")\n",
        "\n",
        "# Initialize model, criterion, and optimizer\n",
        "num_classes = 48\n"
      ],
      "metadata": {
        "colab": {
          "base_uri": "https://localhost:8080/"
        },
        "id": "6o7dvNYdyd2z",
        "outputId": "a9f36db6-0b74-4798-db9f-05b65bc5748f"
      },
      "id": "6o7dvNYdyd2z",
      "execution_count": null,
      "outputs": [
        {
          "output_type": "stream",
          "name": "stdout",
          "text": [
            "GPU is available!\n"
          ]
        }
      ]
    },
    {
      "cell_type": "code",
      "source": [
        "modelCNN = TrafficSignClassifier(num_classes=num_classes).to(device)\n",
        "criterion = nn.CrossEntropyLoss()\n",
        "optimizer = optim.Adam(modelCNN.parameters(), lr=0.001)"
      ],
      "metadata": {
        "colab": {
          "base_uri": "https://localhost:8080/"
        },
        "id": "D4bGBXtZQTSJ",
        "outputId": "75d44ae4-cd73-483d-d77b-d4b17880315f"
      },
      "id": "D4bGBXtZQTSJ",
      "execution_count": null,
      "outputs": [
        {
          "output_type": "stream",
          "name": "stderr",
          "text": [
            "/usr/local/lib/python3.11/dist-packages/torchvision/models/_utils.py:208: UserWarning: The parameter 'pretrained' is deprecated since 0.13 and may be removed in the future, please use 'weights' instead.\n",
            "  warnings.warn(\n",
            "/usr/local/lib/python3.11/dist-packages/torchvision/models/_utils.py:223: UserWarning: Arguments other than a weight enum or `None` for 'weights' are deprecated since 0.13 and may be removed in the future. The current behavior is equivalent to passing `weights=ResNet18_Weights.IMAGENET1K_V1`. You can also use `weights=ResNet18_Weights.DEFAULT` to get the most up-to-date weights.\n",
            "  warnings.warn(msg)\n"
          ]
        }
      ]
    },
    {
      "cell_type": "code",
      "source": [
        "modelResnet = TrafficSignClassifier(num_classes=num_classes).to(device)\n",
        "criterion = nn.CrossEntropyLoss()\n",
        "optimizer = optim.Adam(modelResnet.parameters(), lr=0.001)"
      ],
      "metadata": {
        "id": "kltEXjGbQVm3"
      },
      "id": "kltEXjGbQVm3",
      "execution_count": null,
      "outputs": []
    },
    {
      "cell_type": "markdown",
      "source": [
        "#CNN Model"
      ],
      "metadata": {
        "id": "2x1OwxEQeOcI"
      },
      "id": "2x1OwxEQeOcI"
    },
    {
      "cell_type": "code",
      "source": [
        "import matplotlib.pyplot as plt\n",
        "\n",
        "def train_model_CNN(modelCNN, train_loader, criterion, optimizer, epochs=10):\n",
        "    modelCNN = modelCNN.to(device)\n",
        "    modelCNN.train()\n",
        "\n",
        "    # Lists to store loss and accuracy for each epoch\n",
        "    epoch_losses_cnn = []\n",
        "    epoch_accuracies_cnn = []\n",
        "\n",
        "    for epoch in range(epochs):\n",
        "        total_loss = 0\n",
        "        correct = 0\n",
        "        total = 0\n",
        "\n",
        "        for images, class_ids in train_loader:\n",
        "            images, class_ids = images.to(device), class_ids.to(device)\n",
        "\n",
        "            optimizer.zero_grad()\n",
        "            outputs = modelCNN(images)  # Forward pass\n",
        "            loss = criterion(outputs, class_ids)  # Compute loss\n",
        "\n",
        "            loss.backward()\n",
        "            optimizer.step()\n",
        "\n",
        "            total_loss += loss.item()\n",
        "            _, predicted = outputs.max(1)  # Get predicted classes\n",
        "            total += class_ids.size(0)  # Total number of samples\n",
        "            correct += predicted.eq(class_ids).sum().item()  # Correct predictions\n",
        "\n",
        "        # Calculate epoch loss and accuracy\n",
        "        epoch_loss_cnn = total_loss / len(train_loader)\n",
        "        epoch_accuracy_cnn = 100.0 * correct / total\n",
        "\n",
        "        epoch_losses_cnn.append(epoch_loss_cnn)\n",
        "        epoch_accuracies_cnn.append(epoch_accuracy_cnn)\n",
        "\n",
        "        print(f\"Epoch {epoch + 1}/{epochs}, Loss: {epoch_loss_cnn:.4f}, Accuracy: {epoch_accuracy_cnn:.2f}%\")\n",
        "\n",
        "    return epoch_losses_cnn, epoch_accuracies_cnn\n"
      ],
      "metadata": {
        "id": "Z2ZvejTjNMHF"
      },
      "id": "Z2ZvejTjNMHF",
      "execution_count": null,
      "outputs": []
    },
    {
      "cell_type": "code",
      "source": [
        "epoch_losses_cnn, epoch_accuracies_cnn = train_model_CNN(modelCNN, train_loader, criterion, optimizer, epochs=10)"
      ],
      "metadata": {
        "colab": {
          "base_uri": "https://localhost:8080/"
        },
        "id": "2_EBWjKTNOvY",
        "outputId": "de78a0ed-b571-4122-c654-b17ce9e31a8f"
      },
      "id": "2_EBWjKTNOvY",
      "execution_count": null,
      "outputs": [
        {
          "output_type": "stream",
          "name": "stdout",
          "text": [
            "Epoch 1/10, Loss: 1.0900, Accuracy: 69.85%\n",
            "Epoch 2/10, Loss: 0.5065, Accuracy: 84.37%\n",
            "Epoch 3/10, Loss: 0.3213, Accuracy: 90.17%\n",
            "Epoch 4/10, Loss: 0.2093, Accuracy: 93.36%\n",
            "Epoch 5/10, Loss: 0.1510, Accuracy: 95.10%\n",
            "Epoch 6/10, Loss: 0.1260, Accuracy: 95.74%\n",
            "Epoch 7/10, Loss: 0.0968, Accuracy: 97.04%\n",
            "Epoch 8/10, Loss: 0.1187, Accuracy: 96.32%\n",
            "Epoch 9/10, Loss: 0.0910, Accuracy: 97.11%\n",
            "Epoch 10/10, Loss: 0.0379, Accuracy: 98.81%\n"
          ]
        }
      ]
    },
    {
      "cell_type": "code",
      "source": [
        "# Train the model and log loss and accuracy\n",
        "\n",
        "\n",
        "# Plot the loss graph\n",
        "plt.figure(figsize=(10, 5))\n",
        "plt.plot(range(1, len(epoch_losses_cnn) + 1), epoch_losses_cnn, marker='o', label='Loss')\n",
        "plt.xlabel('Epochs')\n",
        "plt.ylabel('Loss')\n",
        "plt.title('Training Loss Over Epochs')\n",
        "plt.grid()\n",
        "plt.legend()\n",
        "plt.show()\n",
        "\n",
        "# Plot the accuracy graph\n",
        "plt.figure(figsize=(10, 5))\n",
        "plt.plot(range(1, len(epoch_accuracies_cnn) + 1), epoch_accuracies_cnn, marker='o', label='Accuracy')\n",
        "plt.xlabel('Epochs')\n",
        "plt.ylabel('Accuracy (%)')\n",
        "plt.title('Training Accuracy Over Epochs')\n",
        "plt.grid()\n",
        "plt.legend()\n",
        "plt.show()\n"
      ],
      "metadata": {
        "colab": {
          "base_uri": "https://localhost:8080/",
          "height": 957
        },
        "id": "RdtLCJGWNPNG",
        "outputId": "a3a9880a-54bf-457f-c32e-599edef0e668"
      },
      "id": "RdtLCJGWNPNG",
      "execution_count": null,
      "outputs": [
        {
          "output_type": "display_data",
          "data": {
            "text/plain": [
              "<Figure size 1000x500 with 1 Axes>"
            ],
            "image/png": "[encoded data removed]"
          },
          "metadata": {}
        },
        {
          "output_type": "display_data",
          "data": {
            "text/plain": [
              "<Figure size 1000x500 with 1 Axes>"
            ],
            "image/png": "[encoded data removed]"
          },
          "metadata": {}
        }
      ]
    },
    {
      "cell_type": "code",
      "source": [
        "# Testing function\n",
        "def test_modelCNN(modelCNN, test_loader):\n",
        "    modelCNN.eval()\n",
        "    correct = 0\n",
        "    total = 0\n",
        "    with torch.no_grad():\n",
        "        for images, class_ids in test_loader:\n",
        "            images, class_ids = images.to(device), class_ids.to(device)\n",
        "            outputs = modelCNN(images)\n",
        "            _, predicted = outputs.max(1)\n",
        "            total += class_ids.size(0)\n",
        "            correct += predicted.eq(class_ids).sum().item()\n",
        "\n",
        "    print(f\"Test Accuracy: {100. * correct / total:.2f}%\")\n",
        "\n",
        "# Train and test the model\n"
      ],
      "metadata": {
        "id": "SQAOg5prYuJa"
      },
      "id": "SQAOg5prYuJa",
      "execution_count": null,
      "outputs": []
    },
    {
      "cell_type": "code",
      "source": [
        "test_modelCNN(modelCNN, test_loader)"
      ],
      "metadata": {
        "colab": {
          "base_uri": "https://localhost:8080/"
        },
        "id": "pZHULuWeY8_a",
        "outputId": "ecc350ad-d343-4d83-8e22-4564924908b4"
      },
      "id": "pZHULuWeY8_a",
      "execution_count": null,
      "outputs": [
        {
          "output_type": "stream",
          "name": "stdout",
          "text": [
            "Test Accuracy: 77.02%\n"
          ]
        }
      ]
    },
    {
      "cell_type": "markdown",
      "source": [
        "#ResNet Pre-trained Model"
      ],
      "metadata": {
        "id": "6fqfQ2emeUnt"
      },
      "id": "6fqfQ2emeUnt"
    },
    {
      "cell_type": "code",
      "source": [
        "import matplotlib.pyplot as plt\n",
        "\n",
        "def train_model_resnet(modelResnet, train_loader, criterion, optimizer, epochs=10):\n",
        "    modelResnet = modelResnet.to(device)\n",
        "    modelResnet.train()\n",
        "\n",
        "    # Lists to store loss and accuracy for each epoch\n",
        "    epoch_losses_res = []\n",
        "    epoch_accuracies_res = []\n",
        "\n",
        "    for epoch in range(epochs):\n",
        "        total_loss = 0\n",
        "        correct = 0\n",
        "        total = 0\n",
        "\n",
        "        for images, class_ids in train_loader:\n",
        "            images, class_ids = images.to(device), class_ids.to(device)\n",
        "\n",
        "            optimizer.zero_grad()\n",
        "            outputs = modelResnet(images)  # Forward pass\n",
        "            loss = criterion(outputs, class_ids)  # Compute loss\n",
        "\n",
        "            loss.backward()\n",
        "            optimizer.step()\n",
        "\n",
        "            total_loss += loss.item()\n",
        "            _, predicted = outputs.max(1)  # Get predicted classes\n",
        "            total += class_ids.size(0)  # Total number of samples\n",
        "            correct += predicted.eq(class_ids).sum().item()  # Correct predictions\n",
        "\n",
        "        # Calculate epoch loss and accuracy\n",
        "        epoch_loss_res = total_loss / len(train_loader)\n",
        "        epoch_accuracy_res = 100.0 * correct / total\n",
        "\n",
        "        epoch_losses_res.append(epoch_loss_res)\n",
        "        epoch_accuracies_res.append(epoch_accuracy_res)\n",
        "\n",
        "        print(f\"Epoch {epoch + 1}/{epochs}, Loss: {epoch_loss_res:.4f}, Accuracy: {epoch_accuracy_res:.2f}%\")\n",
        "\n",
        "    return epoch_losses_res, epoch_accuracies_res\n"
      ],
      "metadata": {
        "id": "BfG4zKF7Qdn4"
      },
      "id": "BfG4zKF7Qdn4",
      "execution_count": null,
      "outputs": []
    },
    {
      "cell_type": "code",
      "source": [
        "train_model_resnet(modelResnet, train_loader, criterion, optimizer, epochs=10)"
      ],
      "metadata": {
        "colab": {
          "base_uri": "https://localhost:8080/"
        },
        "id": "6mmP8_d_QfUQ",
        "outputId": "d5c6c6de-1227-4b65-9bc5-099090feeffc"
      },
      "id": "6mmP8_d_QfUQ",
      "execution_count": null,
      "outputs": [
        {
          "output_type": "stream",
          "name": "stdout",
          "text": [
            "Epoch 1/10, Loss: 1.1136, Accuracy: 68.65%\n",
            "Epoch 2/10, Loss: 0.5153, Accuracy: 84.15%\n",
            "Epoch 3/10, Loss: 0.3327, Accuracy: 89.92%\n",
            "Epoch 4/10, Loss: 0.2185, Accuracy: 93.44%\n",
            "Epoch 5/10, Loss: 0.1679, Accuracy: 94.68%\n",
            "Epoch 6/10, Loss: 0.1217, Accuracy: 96.09%\n",
            "Epoch 7/10, Loss: 0.1084, Accuracy: 96.63%\n",
            "Epoch 8/10, Loss: 0.1122, Accuracy: 96.39%\n",
            "Epoch 9/10, Loss: 0.0606, Accuracy: 98.09%\n",
            "Epoch 10/10, Loss: 0.0743, Accuracy: 97.69%\n"
          ]
        },
        {
          "output_type": "execute_result",
          "data": {
            "text/plain": [
              "([1.1136226217502725,\n",
              "  0.5153127052048757,\n",
              "  0.33270899273121535,\n",
              "  0.21853916374504812,\n",
              "  0.16786005826560713,\n",
              "  0.12167924389800132,\n",
              "  0.10840016843716074,\n",
              "  0.11219798134062002,\n",
              "  0.06058182999771746,\n",
              "  0.07427022797748077],\n",
              " [68.65412831799387,\n",
              "  84.15366146458584,\n",
              "  89.91596638655462,\n",
              "  93.43737494998,\n",
              "  94.67787114845939,\n",
              "  96.09177004134987,\n",
              "  96.62531679338402,\n",
              "  96.38522075496866,\n",
              "  98.09257036147793,\n",
              "  97.69241029745231])"
            ]
          },
          "metadata": {},
          "execution_count": 36
        }
      ]
    },
    {
      "cell_type": "code",
      "source": [
        "# Testing function\n",
        "def test_model_resnet(modelResnet, test_loader):\n",
        "    modelResnet.eval()\n",
        "    correct = 0\n",
        "    total = 0\n",
        "    with torch.no_grad():\n",
        "        for images, class_ids in test_loader:\n",
        "            images, class_ids = images.to(device), class_ids.to(device)\n",
        "            outputs = modelResnet(images)\n",
        "            _, predicted = outputs.max(1)\n",
        "            total += class_ids.size(0)\n",
        "            correct += predicted.eq(class_ids).sum().item()\n",
        "\n",
        "    print(f\"Test Accuracy: {100. * correct / total:.2f}%\")\n",
        "\n",
        "# Train and test the model\n"
      ],
      "metadata": {
        "id": "312KBVYJZaGk"
      },
      "id": "312KBVYJZaGk",
      "execution_count": null,
      "outputs": []
    },
    {
      "cell_type": "code",
      "source": [
        "test_model_resnet(modelResnet,test_loader)"
      ],
      "metadata": {
        "colab": {
          "base_uri": "https://localhost:8080/"
        },
        "id": "_ZiL-0XhZvxF",
        "outputId": "bfe62613-d50a-4cca-cc15-030457b224e4"
      },
      "id": "_ZiL-0XhZvxF",
      "execution_count": null,
      "outputs": [
        {
          "output_type": "stream",
          "name": "stdout",
          "text": [
            "Test Accuracy: 77.81%\n"
          ]
        }
      ]
    },
    {
      "cell_type": "code",
      "source": [],
      "metadata": {
        "id": "DpmFKoAJzd_h"
      },
      "id": "DpmFKoAJzd_h",
      "execution_count": null,
      "outputs": []
    }
  ],
  "metadata": {
    "kernelspec": {
      "display_name": "Python 3",
      "name": "python3"
    },
    "language_info": {
      "codemirror_mode": {
        "name": "ipython",
        "version": 3
      },
      "file_extension": ".py",
      "mimetype": "text/x-python",
      "name": "python",
      "nbconvert_exporter": "python",
      "pygments_lexer": "ipython3",
      "version": "3.9.13"
    },
    "colab": {
      "provenance": [],
      "gpuType": "T4"
    },
    "accelerator": "GPU"
  },
  "nbformat": 4,
  "nbformat_minor": 5
}